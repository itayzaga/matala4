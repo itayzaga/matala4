{
 "cells": [
  {
   "cell_type": "code",
   "execution_count": 11,
   "metadata": {
    "scrolled": true
   },
   "outputs": [
    {
     "ename": "IndexError",
     "evalue": "list index out of range",
     "output_type": "error",
     "traceback": [
      "\u001b[1;31m---------------------------------------------------------------------------\u001b[0m",
      "\u001b[1;31mIndexError\u001b[0m                                Traceback (most recent call last)",
      "\u001b[1;32m<ipython-input-11-1b93dcdc9c1a>\u001b[0m in \u001b[0;36m<module>\u001b[1;34m\u001b[0m\n\u001b[0;32m     11\u001b[0m     \u001b[0murlDistance\u001b[0m \u001b[1;33m=\u001b[0m \u001b[1;34m\"https://maps.googleapis.com/maps/api/distancematrix/json?origins=%s&destinations=%s&key=%s\"\u001b[0m \u001b[1;33m%\u001b[0m \u001b[1;33m(\u001b[0m\u001b[0morigin\u001b[0m \u001b[1;33m,\u001b[0m \u001b[0mline\u001b[0m \u001b[1;33m,\u001b[0m \u001b[0mmyKey\u001b[0m\u001b[1;33m)\u001b[0m\u001b[1;33m\u001b[0m\u001b[1;33m\u001b[0m\u001b[0m\n\u001b[0;32m     12\u001b[0m     \u001b[0mresultDistance\u001b[0m \u001b[1;33m=\u001b[0m \u001b[0mrequests\u001b[0m\u001b[1;33m.\u001b[0m\u001b[0mget\u001b[0m\u001b[1;33m(\u001b[0m\u001b[0murlDistance\u001b[0m\u001b[1;33m)\u001b[0m\u001b[1;33m.\u001b[0m\u001b[0mjson\u001b[0m\u001b[1;33m(\u001b[0m\u001b[1;33m)\u001b[0m\u001b[1;33m\u001b[0m\u001b[1;33m\u001b[0m\u001b[0m\n\u001b[1;32m---> 13\u001b[1;33m     \u001b[1;32mif\u001b[0m \u001b[0mresultDistance\u001b[0m\u001b[1;33m[\u001b[0m\u001b[1;34m\"destination_addresses\"\u001b[0m\u001b[1;33m]\u001b[0m\u001b[1;33m[\u001b[0m\u001b[1;36m0\u001b[0m\u001b[1;33m]\u001b[0m \u001b[1;33m==\u001b[0m \u001b[1;34m\"\"\u001b[0m\u001b[1;33m:\u001b[0m\u001b[1;33m\u001b[0m\u001b[1;33m\u001b[0m\u001b[0m\n\u001b[0m\u001b[0;32m     14\u001b[0m         \u001b[0mprint\u001b[0m\u001b[1;33m(\u001b[0m\u001b[1;34m\"destination not found\"\u001b[0m\u001b[1;33m)\u001b[0m\u001b[1;33m\u001b[0m\u001b[1;33m\u001b[0m\u001b[0m\n\u001b[0;32m     15\u001b[0m         \u001b[1;32mcontinue\u001b[0m\u001b[1;33m\u001b[0m\u001b[1;33m\u001b[0m\u001b[0m\n",
      "\u001b[1;31mIndexError\u001b[0m: list index out of range"
     ]
    }
   ],
   "source": [
    "import requests\n",
    "file = open('C:/Users/Moti/Desktop/python/matala4/dests.txt' , 'r' , encoding = 'utf-8')\n",
    "origin = \"תל אביב\"\n",
    "\n",
    "myKey = None\n",
    "#Please enter the key attached to the text file\n",
    "\n",
    "dic = dict()\n",
    "for line in file:\n",
    "    line = line.strip()\n",
    "    urlDistance = \"https://maps.googleapis.com/maps/api/distancematrix/json?origins=%s&destinations=%s&key=%s\" % (origin , line , myKey)\n",
    "    resultDistance = requests.get(urlDistance).json()\n",
    "    if resultDistance[\"destination_addresses\"][0] == \"\":\n",
    "        print(\"destination not found\")\n",
    "        continue\n",
    "    distance = resultDistance[\"rows\"][0][\"elements\"][0][\"distance\"][\"text\"]\n",
    "    duration = resultDistance[\"rows\"][0][\"elements\"][0][\"duration\"][\"value\"]\n",
    "    #Conversion of time to hours and minutes as requested. I did not understand why but that was how he was asked\n",
    "    durationHour = int(duration / 60)\n",
    "    durationMin = duration - (durationHour * 60)\n",
    "    duration = str(durationHour) + \" hours and \" + str(durationMin) + \" minutes\"\n",
    "    urlGeocode = \"https://maps.googleapis.com/maps/api/geocode/json?address=%s&key=%s\" % (line , myKey)\n",
    "    resultGeocode = requests.get(urlGeocode).json()\n",
    "    latitude = resultGeocode[\"results\"][0][\"geometry\"][\"location\"][\"lat\"]\n",
    "    longitude = resultGeocode[\"results\"][0][\"geometry\"][\"location\"][\"lng\"]\n",
    "    dic[line] = (distance , duration , latitude , longitude)\n",
    "    print(line + \" : \" , dic[line])\n",
    "\n",
    "listDistance = list()\n",
    "for (i,j) in dic.items():\n",
    "    indexKM = j[0].find(\"km\")\n",
    "    dist = int(j[0][:indexKM - 1].replace(\",\" , \"\"))\n",
    "    #I insulted the number and converted to integer\n",
    "    listDistance.append((dist , i))\n",
    "    \n",
    "listDistance = sorted(listDistance , reverse = True)\n",
    "print(\"the farthest destinations: \" , listDistance[0:3])\n"
   ]
  }
 ],
 "metadata": {
  "kernelspec": {
   "display_name": "Python 3",
   "language": "python",
   "name": "python3"
  },
  "language_info": {
   "codemirror_mode": {
    "name": "ipython",
    "version": 3
   },
   "file_extension": ".py",
   "mimetype": "text/x-python",
   "name": "python",
   "nbconvert_exporter": "python",
   "pygments_lexer": "ipython3",
   "version": "3.8.3"
  }
 },
 "nbformat": 4,
 "nbformat_minor": 4
}
